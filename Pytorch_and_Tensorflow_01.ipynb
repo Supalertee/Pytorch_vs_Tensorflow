{
 "cells": [
  {
   "cell_type": "markdown",
   "id": "e565461d-2112-4d38-b98f-2231c2069f9d",
   "metadata": {},
   "source": [
    "# Pytorch and Tensorflow"
   ]
  },
  {
   "cell_type": "markdown",
   "id": "309d3f6d-e29a-48e6-a479-c6f3fb1a0395",
   "metadata": {},
   "source": [
    "<br> We first import Pytorch and TensorFlow.</br>\n",
    "In the case that there are no packages please visit\n",
    "<ul>\n",
    "    <li> For <b> TensorFlow </b>, visit   <a href = https://www.tensorflow.org/install/>tensorflow.org/install</a>    </li>\n",
    "    <li>  For <b> Pytorch </b>, visit   <a href =https://pytorch.org/get-started/locally/> pytorch.org/get-started/locally</a>    </li> </li>\n",
    "</ul>\n",
    "Make sure that <b>pip</b> is properly install in your environment\n"
   ]
  },
  {
   "cell_type": "code",
   "execution_count": 411,
   "id": "ff432bc4-706a-4144-b903-3ce26ed15574",
   "metadata": {},
   "outputs": [],
   "source": [
    "import torch \n",
    "import tensorflow as tf\n",
    "import numpy as np\n",
    "import matplotlib.pyplot as plt"
   ]
  },
  {
   "cell_type": "markdown",
   "id": "f535b5eb-d80a-4b85-90bc-b112e1d235ff",
   "metadata": {},
   "source": [
    "### Define Tensors or converting from numpy arrays\n",
    "In computational programing, tensor is nothing other multi-dimensional arrays. </br>\n",
    "Unlike in Physics, which we need to much more care about the transformation properties.</br>\n",
    "Both Pytorch and TensorFlow can change numpy type quantity to tensor quantity.\n"
   ]
  },
  {
   "cell_type": "code",
   "execution_count": 412,
   "id": "eb1462af-0550-4869-8687-34c3cac7f979",
   "metadata": {},
   "outputs": [
    {
     "name": "stdout",
     "output_type": "stream",
     "text": [
      "numpy array is given as follows \n",
      "[[0.87866523 0.51413894 0.92998574 0.00162261]\n",
      " [0.22311624 0.78579618 0.79739915 0.05022074]\n",
      " [0.96002215 0.17948095 0.30863505 0.34214669]\n",
      " [0.97887724 0.90740089 0.95386232 0.63457492]] <class 'numpy.ndarray'>\n",
      "\n",
      " We can convert into tensor rank-n in ternsorflow: \n",
      "tf.Tensor(\n",
      "[[0.87866523 0.51413894 0.92998574 0.00162261]\n",
      " [0.22311624 0.78579618 0.79739915 0.05022074]\n",
      " [0.96002215 0.17948095 0.30863505 0.34214669]\n",
      " [0.97887724 0.90740089 0.95386232 0.63457492]], shape=(4, 4), dtype=float64) <class 'tensorflow.python.framework.ops.EagerTensor'>\n",
      "\n",
      " We can convert into tensor rank-n in ternsorflow: \n",
      "tensor([[0.8787, 0.5141, 0.9300, 0.0016],\n",
      "        [0.2231, 0.7858, 0.7974, 0.0502],\n",
      "        [0.9600, 0.1795, 0.3086, 0.3421],\n",
      "        [0.9789, 0.9074, 0.9539, 0.6346]], dtype=torch.float64) <class 'torch.Tensor'>\n"
     ]
    }
   ],
   "source": [
    "X = np.random.rand(4,4)\n",
    "print(\"numpy array is given as follows \")\n",
    "print(X,type(X))\n",
    "X_tensorflow = tf.convert_to_tensor(X)\n",
    "print(\"\\n We can convert into tensor rank-n in ternsorflow: \")\n",
    "print(X_tensorflow,type(X_tensorflow))\n",
    "X_pytorch = torch.from_numpy(X)\n",
    "print(\"\\n We can convert into tensor rank-n in ternsorflow: \")\n",
    "\n",
    "print(X_pytorch,type(X_pytorch))\n",
    "\n"
   ]
  },
  {
   "cell_type": "markdown",
   "id": "b914bc75-16e6-4616-a11f-1d0487ccae5a",
   "metadata": {},
   "source": [
    "### Regression\n",
    "\n",
    "In this section, I will first manually construct the ML algorithm and then I will use built-in optimization later.\n",
    "\n",
    "1. Farward step is the generating of prediction by using a model.\n",
    "2. loss is defined loss-function appropriate to model. \n",
    "3. backward propagator is done by considering gredient to find the minimum of loss and update\n",
    "4. "
   ]
  },
  {
   "cell_type": "markdown",
   "id": "e44328db-695e-4cb8-9fe2-04db597ae122",
   "metadata": {},
   "source": [
    "#### Manual (Numpy_Based Regression)\n",
    "In ML model, we need roughly 3 steps: \n",
    "1) forward process, we consider y_pred = w*x \n",
    "2) loss calculation, we consider 1/N sum((y_pred_i-y_i)^2) which is usually stable under differential operators\n",
    "3) backward update, update w = w - a d(loss)/dw\n",
    "\n"
   ]
  },
  {
   "cell_type": "code",
   "execution_count": 459,
   "id": "ae384981-23a3-483c-a2e1-2842486e545b",
   "metadata": {
    "scrolled": true
   },
   "outputs": [
    {
     "name": "stdout",
     "output_type": "stream",
     "text": [
      "epoch:1: w = 4.600, loss = 30.00000000\n",
      "epoch:3: w = 4.024, loss = 12.28799534\n",
      "epoch:5: w = 3.655, loss = 5.03315926\n",
      "epoch:7: w = 3.419, loss = 2.06158352\n",
      "epoch:9: w = 3.268, loss = 0.84442389\n",
      "epoch:11: w = 3.172, loss = 0.34587568\n",
      "epoch:13: w = 3.110, loss = 0.14167061\n",
      "epoch:15: w = 3.070, loss = 0.05802810\n",
      "epoch:17: w = 3.045, loss = 0.02376834\n",
      "epoch:19: w = 3.029, loss = 0.00973545\n",
      "epoch:21: w = 3.018, loss = 0.00398760\n",
      "epoch:23: w = 3.012, loss = 0.00163330\n",
      "epoch:25: w = 3.008, loss = 0.00066901\n",
      "epoch:27: w = 3.005, loss = 0.00027403\n",
      "epoch:29: w = 3.003, loss = 0.00011226\n",
      "epoch:31: w = 3.002, loss = 0.00004598\n",
      "epoch:33: w = 3.001, loss = 0.00001884\n",
      "epoch:35: w = 3.001, loss = 0.00000771\n",
      "epoch:37: w = 3.001, loss = 0.00000316\n",
      "epoch:39: w = 3.000, loss = 0.00000130\n",
      "epoch:41: w = 3.000, loss = 0.00000053\n",
      "epoch:43: w = 3.000, loss = 0.00000022\n",
      "epoch:45: w = 3.000, loss = 0.00000009\n",
      "epoch:47: w = 3.000, loss = 0.00000004\n",
      "epoch:49: w = 3.000, loss = 0.00000002\n",
      "epoch:51: w = 3.000, loss = 0.00000001\n",
      "epoch:53: w = 3.000, loss = 0.00000000\n",
      "epoch:55: w = 3.000, loss = 0.00000000\n",
      "epoch:57: w = 3.000, loss = 0.00000000\n",
      "epoch:59: w = 3.000, loss = 0.00000000\n",
      "epoch:61: w = 3.000, loss = 0.00000000\n",
      "epoch:63: w = 3.000, loss = 0.00000000\n",
      "epoch:65: w = 3.000, loss = 0.00000000\n",
      "epoch:67: w = 3.000, loss = 0.00000000\n",
      "epoch:69: w = 3.000, loss = 0.00000000\n",
      "epoch:71: w = 3.000, loss = 0.00000000\n",
      "epoch:73: w = 3.000, loss = 0.00000000\n",
      "epoch:75: w = 3.000, loss = 0.00000000\n",
      "epoch:77: w = 3.000, loss = 0.00000000\n",
      "epoch:79: w = 3.000, loss = 0.00000000\n",
      "epoch:81: w = 3.000, loss = 0.00000000\n",
      "epoch:83: w = 3.000, loss = 0.00000000\n",
      "epoch:85: w = 3.000, loss = 0.00000000\n",
      "epoch:87: w = 3.000, loss = 0.00000000\n",
      "epoch:89: w = 3.000, loss = 0.00000000\n",
      "epoch:91: w = 3.000, loss = 0.00000000\n",
      "epoch:93: w = 3.000, loss = 0.00000000\n",
      "epoch:95: w = 3.000, loss = 0.00000000\n",
      "epoch:97: w = 3.000, loss = 0.00000000\n",
      "epoch:99: w = 3.000, loss = 0.00000000\n",
      "epoch:101: w = 3.000, loss = 0.00000000\n",
      "epoch:103: w = 3.000, loss = 0.00000000\n",
      "epoch:105: w = 3.000, loss = 0.00000000\n",
      "epoch:107: w = 3.000, loss = 0.00000000\n",
      "epoch:109: w = 3.000, loss = 0.00000000\n",
      "epoch:111: w = 3.000, loss = 0.00000000\n",
      "epoch:113: w = 3.000, loss = 0.00000000\n",
      "epoch:115: w = 3.000, loss = 0.00000000\n",
      "epoch:117: w = 3.000, loss = 0.00000000\n",
      "epoch:119: w = 3.000, loss = 0.00000000\n",
      "epoch:121: w = 3.000, loss = 0.00000000\n",
      "epoch:123: w = 3.000, loss = 0.00000000\n",
      "epoch:125: w = 3.000, loss = 0.00000000\n",
      "epoch:127: w = 3.000, loss = 0.00000000\n",
      "epoch:129: w = 3.000, loss = 0.00000000\n",
      "epoch:131: w = 3.000, loss = 0.00000000\n",
      "epoch:133: w = 3.000, loss = 0.00000000\n",
      "epoch:135: w = 3.000, loss = 0.00000000\n",
      "epoch:137: w = 3.000, loss = 0.00000000\n",
      "epoch:139: w = 3.000, loss = 0.00000000\n",
      "epoch:141: w = 3.000, loss = 0.00000000\n",
      "epoch:143: w = 3.000, loss = 0.00000000\n",
      "epoch:145: w = 3.000, loss = 0.00000000\n",
      "epoch:147: w = 3.000, loss = 0.00000000\n",
      "epoch:149: w = 3.000, loss = 0.00000000\n",
      "epoch:151: w = 3.000, loss = 0.00000000\n",
      "epoch:153: w = 3.000, loss = 0.00000000\n",
      "epoch:155: w = 3.000, loss = 0.00000000\n",
      "epoch:157: w = 3.000, loss = 0.00000000\n",
      "epoch:159: w = 3.000, loss = 0.00000000\n",
      "epoch:161: w = 3.000, loss = 0.00000000\n",
      "epoch:163: w = 3.000, loss = 0.00000000\n",
      "epoch:165: w = 3.000, loss = 0.00000000\n",
      "epoch:167: w = 3.000, loss = 0.00000000\n",
      "epoch:169: w = 3.000, loss = 0.00000000\n",
      "epoch:171: w = 3.000, loss = 0.00000000\n",
      "epoch:173: w = 3.000, loss = 0.00000000\n",
      "epoch:175: w = 3.000, loss = 0.00000000\n",
      "epoch:177: w = 3.000, loss = 0.00000000\n",
      "epoch:179: w = 3.000, loss = 0.00000000\n",
      "epoch:181: w = 3.000, loss = 0.00000000\n",
      "epoch:183: w = 3.000, loss = 0.00000000\n",
      "epoch:185: w = 3.000, loss = 0.00000000\n",
      "epoch:187: w = 3.000, loss = 0.00000000\n",
      "epoch:189: w = 3.000, loss = 0.00000000\n",
      "epoch:191: w = 3.000, loss = 0.00000000\n",
      "epoch:193: w = 3.000, loss = 0.00000000\n",
      "epoch:195: w = 3.000, loss = 0.00000000\n",
      "epoch:197: w = 3.000, loss = 0.00000000\n",
      "epoch:199: w = 3.000, loss = 0.00000000\n",
      "predict before training: f(5) = 15.000\n"
     ]
    }
   ],
   "source": [
    "def foward_1D_regression(x):\n",
    "    return w*x\n",
    "def loss(y,y_predict):\n",
    "    return ((y_predict-y)**2).mean()\n",
    "def gredient(x,y,y_predict):\n",
    "    return np.dot(2*x,(y_predict-y)).mean()\n",
    "\n",
    "X= np.array([1,2,3,4],dtype = np.float32)\n",
    "Y = np.array([3,6,9,12],dtype = np.float32)\n",
    "X_test = np.array([5],dtype = np.float32)\n",
    "w = 1\n",
    "\n",
    "learning_rate =0.03\n",
    "n_iters = 200\n",
    "\n",
    "loss_custom = []\n",
    "w_custom = []\n",
    "for epoch in range(n_iters):\n",
    "    y_pred = forward_1D_regression(X)\n",
    "    \n",
    "    l = loss(Y,y_pred)\n",
    "    loss_custom.append(l)\n",
    "    dw = gredient(X,Y,y_pred)\n",
    "    \n",
    "    w -= learning_rate * dw\n",
    "    w_custom.append(w)\n",
    "    if epoch % 2 == 0:\n",
    "        print(f'epoch:{epoch+1}: w = {w.item():.3f}, loss = {l:.8f}')\n",
    "print(f'predict before training: f(5) = {forward_1D_regression(X_test).item():.3f}')"
   ]
  },
  {
   "cell_type": "markdown",
   "id": "a8857792-ae8e-40ac-96d1-2353485f31d0",
   "metadata": {},
   "source": [
    "### Pytorch Based Regression\n",
    "In Pytorch, there are super useful module for example, Regression, loss function, optimization, which might be well optimized\n",
    "\n",
    "Firstlym let consider Linear regression by using <b>torch.nn.Linear</b>, the forward is automatically called in the class"
   ]
  },
  {
   "cell_type": "code",
   "execution_count": 460,
   "id": "d65efe0d-71ba-4cda-a3e3-c1cb4894d56f",
   "metadata": {},
   "outputs": [],
   "source": [
    "import torch.nn as nn \n",
    "\n",
    "class Linear_Regression(nn.Module): \n",
    "    def __init__(self,input_dims,output_dims):\n",
    "        super(Linear_Regression, self).__init__()  \n",
    "        # remind that nn.Module has its __call__, so we include this line to access \"nn.Module\"'s attriute including __call__\n",
    "        self.lin = nn.Linear(input_dims,output_dims)\n",
    "        \n",
    "    def forward(self,x):\n",
    "        return self.lin(x)\n",
    "\n",
    "# we need 1 feature 4 samples , so that we need column vector input data 4x1, [1,2,3,4] -> (4,), reshape and convert to tensor are needed.\n",
    "def pytorch_columnize(z):\n",
    "    return torch.from_numpy(z.reshape(len(z),1))"
   ]
  },
  {
   "cell_type": "markdown",
   "id": "63aad50b-95db-4aab-af00-4e21c14022cf",
   "metadata": {},
   "source": [
    "#### Setting data and data structures"
   ]
  },
  {
   "cell_type": "code",
   "execution_count": 476,
   "id": "17f54baa-3725-4e4e-b1e6-457a4c6e9832",
   "metadata": {
    "scrolled": true
   },
   "outputs": [],
   "source": [
    "\n",
    "X = pytorch_columnize(np.array([1,2,3,4],dtype = np.float32))\n",
    "Y = pytorch_columnize(np.array([3,6,9,12],dtype = np.float32))\n",
    "# in the case that, we define torch.tensor with 4x1 pytorch_columnize is not needed.\n",
    "X_test = torch.tensor([[5],[6],[7],[8],[9],[10]],dtype = torch.float32)\n",
    "# inputs and outputs shape is consider as the second component of shape (1 in this case.)\n",
    "input_dims,output_dims = X_torch.shape[1], Y_torch.shape[1]\n"
   ]
  },
  {
   "cell_type": "markdown",
   "id": "e2cf583c-39e8-43a4-87ce-4d54ae86505d",
   "metadata": {},
   "source": [
    "#### Model Construction and Optimization"
   ]
  },
  {
   "cell_type": "code",
   "execution_count": 477,
   "id": "e487bfc0-a7c6-4775-a692-ee41ec88ed10",
   "metadata": {},
   "outputs": [
    {
     "name": "stdout",
     "output_type": "stream",
     "text": [
      "epoch:1: w = 1.189, loss = 107.29077148\n",
      "epoch:11: w = 2.890, loss = 0.01726592\n",
      "epoch:21: w = 2.901, loss = 0.01433327\n",
      "epoch:31: w = 2.910, loss = 0.01196684\n",
      "epoch:41: w = 2.918, loss = 0.00999110\n",
      "epoch:51: w = 2.925, loss = 0.00834154\n",
      "epoch:61: w = 2.931, loss = 0.00696434\n",
      "epoch:71: w = 2.937, loss = 0.00581451\n",
      "epoch:81: w = 2.943, loss = 0.00485452\n",
      "epoch:91: w = 2.947, loss = 0.00405303\n",
      "epoch:101: w = 2.952, loss = 0.00338389\n",
      "epoch:111: w = 2.956, loss = 0.00282518\n",
      "epoch:121: w = 2.960, loss = 0.00235874\n",
      "epoch:131: w = 2.963, loss = 0.00196931\n",
      "epoch:141: w = 2.967, loss = 0.00164417\n",
      "epoch:151: w = 2.969, loss = 0.00137272\n",
      "epoch:161: w = 2.972, loss = 0.00114607\n",
      "epoch:171: w = 2.974, loss = 0.00095686\n",
      "epoch:181: w = 2.977, loss = 0.00079888\n",
      "epoch:191: w = 2.979, loss = 0.00066698\n",
      "predict before training: f(5) = tensor([[14.9595],\n",
      "        [17.9399],\n",
      "        [20.9203],\n",
      "        [23.9006],\n",
      "        [26.8810],\n",
      "        [29.8613]])\n"
     ]
    }
   ],
   "source": [
    "model = Linear_Regression(input_dims,output_dims)\n",
    "learning_rate = 0.03\n",
    "n_iters = 200\n",
    "loss = nn.MSELoss()\n",
    "optimizer = torch.optim.SGD(model.parameters(),lr = learning_rate)\n",
    "\n",
    "loss_pytorch = []\n",
    "w_pytorch = []\n",
    "for epoch in range(n_iters):\n",
    "    y_pred = model(X)\n",
    "    l = loss(Y,y_pred)\n",
    "    l.backward()\n",
    "    optimizer.step()\n",
    "    optimizer.zero_grad()\n",
    "    loss_pytorch.append(l.detach().numpy())\n",
    "    [w,b] = model.parameters()\n",
    "    w_pytorch.append(w[0][0].item())\n",
    "    if epoch % 10 == 0:\n",
    "        [w,b] = model.parameters()\n",
    "        print(f'epoch:{epoch+1}: w = {w[0][0].item():.3f}, loss = {l:.8f}')\n",
    "print(f'predict before training: f(5) = {model(X_test).detach()}')\n",
    "\n",
    "\n"
   ]
  },
  {
   "cell_type": "markdown",
   "id": "c68692a0-6bf7-4fc5-a992-408cc1d1afb9",
   "metadata": {},
   "source": [
    "### <b>Tensorflow</b> Based Regression \n",
    "\n",
    "As similar as Pytorch, the data feeding into layer need to by tensor of tensorflow.\n",
    "\n",
    "#### Setting data and data structures"
   ]
  },
  {
   "cell_type": "code",
   "execution_count": 463,
   "id": "cd7cc631-5ba1-461c-92c4-2b6b7048d464",
   "metadata": {},
   "outputs": [],
   "source": [
    "import numpy as np\n",
    "import tensorflow as tf\n",
    "\n",
    "# Function to reshape and convert data to tensors\n",
    "def tf_tensor_columnize(z):\n",
    "    return tf.convert_to_tensor(z.reshape(len(z), 1))\n",
    "\n",
    "# Data\n",
    "X = tf_tensor_columnize(np.array([1, 2, 3, 4], dtype=np.float32))\n",
    "Y = tf_tensor_columnize(np.array([3, 6, 9, 12], dtype=np.float32))\n",
    "X_test = tf.constant([[5],[6],[7],[8],[9],[10]],dtype = tf.float32)\n"
   ]
  },
  {
   "cell_type": "markdown",
   "id": "863b1f10-e1c6-4be1-8f85-30a0cb12daca",
   "metadata": {},
   "source": [
    "#### Model Construction and Optimization"
   ]
  },
  {
   "cell_type": "code",
   "execution_count": 464,
   "id": "b7753b65-4509-4df5-a2d8-48eddb679563",
   "metadata": {
    "scrolled": true
   },
   "outputs": [
    {
     "name": "stdout",
     "output_type": "stream",
     "text": [
      "Epoch 1: weight = 1.741, bias = 0.343\n",
      "Epoch 11: weight = 2.784, bias = 0.632\n",
      "Epoch 21: weight = 2.804, bias = 0.578\n",
      "Epoch 31: weight = 2.821, bias = 0.528\n",
      "Epoch 41: weight = 2.836, bias = 0.482\n",
      "Epoch 51: weight = 2.850, bias = 0.441\n",
      "Epoch 61: weight = 2.863, bias = 0.403\n",
      "Epoch 71: weight = 2.875, bias = 0.368\n",
      "Epoch 81: weight = 2.886, bias = 0.336\n",
      "Epoch 91: weight = 2.896, bias = 0.307\n",
      "Epoch 101: weight = 2.905, bias = 0.281\n",
      "Epoch 111: weight = 2.913, bias = 0.256\n",
      "Epoch 121: weight = 2.920, bias = 0.234\n",
      "Epoch 131: weight = 2.927, bias = 0.214\n",
      "Epoch 141: weight = 2.933, bias = 0.196\n",
      "Epoch 151: weight = 2.939, bias = 0.179\n",
      "Epoch 161: weight = 2.944, bias = 0.163\n",
      "Epoch 171: weight = 2.949, bias = 0.149\n",
      "Epoch 181: weight = 2.954, bias = 0.136\n",
      "Epoch 191: weight = 2.958, bias = 0.125\n"
     ]
    }
   ],
   "source": [
    "# Define the model\n",
    "def model():\n",
    "    model = tf.keras.models.Sequential()\n",
    "    model.add(tf.keras.layers.Dense(units=1))\n",
    "    return model\n",
    "\n",
    "linear_model = model()\n",
    "\n",
    "linear_model.compile(\n",
    "    optimizer=tf.keras.optimizers.SGD(learning_rate=0.03),\n",
    "    loss='MeanSquaredError')\n",
    "\n",
    "# Custom callback to store weights and biases for plotting\n",
    "class WeightTracker(tf.keras.callbacks.Callback):\n",
    "    def __init__(self):\n",
    "        super(WeightTracker, self).__init__()\n",
    "        self.weights_history = []  # To store weights at each epoch\n",
    "        self.bias_history = []     # To store biases at each epoch\n",
    "\n",
    "    def on_epoch_end(self, epoch, logs=None):\n",
    "        # Get weights from the model (a list of arrays: [weights, bias])\n",
    "        weights = self.model.get_weights()\n",
    "        w, b = weights[0][0][0], weights[1][0]\n",
    "        # Append weights and biases to lists\n",
    "        self.weights_history.append(w)\n",
    "        self.bias_history.append(b)\n",
    "        if epoch % 10 == 0:\n",
    "            print(f'Epoch {epoch + 1}: weight = {w:.3f}, bias = {b:.3f}')\n",
    "\n",
    "weight_tracker = WeightTracker()\n",
    "history = linear_model.fit(\n",
    "    X,\n",
    "    Y,\n",
    "    epochs=200,\n",
    "    verbose=0,\n",
    "    validation_split=0,\n",
    "    callbacks=[weight_tracker]  \n",
    ")\n",
    "\n",
    "w_tf = weight_tracker.weights_history\n",
    "bias_tf = weight_tracker.bias_history\n",
    "loss_tf = history.history['loss']\n",
    "# Plotting the weight evolution\n",
    "# epochs = range(1, len(weight_tracker.weights_history) + 1)\n",
    "# plt.plot(epochs, weight_tracker.weights_history, label='Weight')\n",
    "# plt.plot(epochs, weight_tracker.bias_history, label='Bias')\n",
    "# plt.plot(history.history['loss'], label='loss')\n",
    "# plt.xlabel('Epochs')\n",
    "# plt.ylabel('Value')\n",
    "# plt.title('Weight and Bias Evolution over Epochs')\n",
    "# plt.legend()\n",
    "# plt.show()\n"
   ]
  },
  {
   "cell_type": "markdown",
   "id": "ee646603-f686-49e1-93d4-d64c333c3cc4",
   "metadata": {},
   "source": [
    "# Loss function and Weight visualization"
   ]
  },
  {
   "cell_type": "code",
   "execution_count": 419,
   "id": "883f3018-3a56-4e06-8011-0ec272ba0f60",
   "metadata": {},
   "outputs": [
    {
     "data": {
      "text/plain": [
       "[45.31484603881836,\n",
       " 28.726890563964844,\n",
       " 18.258167266845703,\n",
       " 11.650898933410645,\n",
       " 7.480355262756348,\n",
       " 4.847475528717041,\n",
       " 3.1849277019500732,\n",
       " 2.1347012519836426,\n",
       " 1.4708812236785889,\n",
       " 1.0509063005447388,\n",
       " 0.7848148941993713,\n",
       " 0.6158393621444702,\n",
       " 0.508156955242157,\n",
       " 0.43916136026382446,\n",
       " 0.3945881128311157]"
      ]
     },
     "execution_count": 419,
     "metadata": {},
     "output_type": "execute_result"
    }
   ],
   "source": [
    "loss_custom \n",
    "w_custom \n",
    "loss_pytorch\n",
    "w_pytorch\n",
    "w_tf\n",
    "loss_tf"
   ]
  },
  {
   "cell_type": "code",
   "execution_count": 473,
   "id": "2a277a99-98ce-4a09-a325-9a5a9eef1ab9",
   "metadata": {},
   "outputs": [
    {
     "data": {
      "text/plain": [
       "Text(0.5, 1.0, 'Loss Function Evolution over Epochs')"
      ]
     },
     "execution_count": 473,
     "metadata": {},
     "output_type": "execute_result"
    },
    {
     "data": {
      "image/png": "[encoded data removed]",
      "text/plain": [
       "<Figure size 640x480 with 1 Axes>"
      ]
     },
     "metadata": {},
     "output_type": "display_data"
    }
   ],
   "source": [
    "plt.plot(loss_custom, label='loss_numpy')\n",
    "plt.plot(loss_pytorch, label='loss_pytorch')\n",
    "plt.plot(loss_tf, label='loss_tensorflow')\n",
    "plt.xlabel('Epochs')\n",
    "plt.ylim([-0.1,1])\n",
    "plt.legend()\n",
    "plt.title('Loss Function Evolution over Epochs')\n"
   ]
  },
  {
   "cell_type": "code",
   "execution_count": 474,
   "id": "8f91d194-5ebf-4410-b1cd-db1a4bc074cd",
   "metadata": {},
   "outputs": [
    {
     "data": {
      "text/plain": [
       "<matplotlib.legend.Legend at 0x3049f0d10>"
      ]
     },
     "execution_count": 474,
     "metadata": {},
     "output_type": "execute_result"
    },
    {
     "data": {
      "image/png": "[encoded data removed]",
      "text/plain": [
       "<Figure size 640x480 with 1 Axes>"
      ]
     },
     "metadata": {},
     "output_type": "display_data"
    }
   ],
   "source": [
    "plt.plot(w_custom, label='loss_numpy')\n",
    "plt.plot(w_pytorch, label='loss_pytorch')\n",
    "plt.plot(w_tf, label='loss_tensorflow')\n",
    "plt.xlabel('Epochs')\n",
    "plt.ylim([2,4])\n",
    "plt.title('Weight Evolution over Epochs')\n",
    "plt.legend()"
   ]
  },
  {
   "cell_type": "code",
   "execution_count": 478,
   "id": "e2e8b08f-fb9b-4eae-9f89-99613bf0876b",
   "metadata": {},
   "outputs": [],
   "source": [
    "import os"
   ]
  },
  {
   "cell_type": "code",
   "execution_count": 479,
   "id": "5665c057-beb0-4998-af8e-0363c5a46242",
   "metadata": {},
   "outputs": [
    {
     "data": {
      "text/plain": [
       "'/Users/supalertee/Projects/LLM'"
      ]
     },
     "execution_count": 479,
     "metadata": {},
     "output_type": "execute_result"
    }
   ],
   "source": [
    "os.getcwd()"
   ]
  },
  {
   "cell_type": "code",
   "execution_count": null,
   "id": "b6fc7024-62c9-4b9a-9a6d-e3e7c761ac95",
   "metadata": {},
   "outputs": [],
   "source": []
  }
 ],
 "metadata": {
  "kernelspec": {
   "display_name": "LLM",
   "language": "python",
   "name": "llm"
  },
  "language_info": {
   "codemirror_mode": {
    "name": "ipython",
    "version": 3
   },
   "file_extension": ".py",
   "mimetype": "text/x-python",
   "name": "python",
   "nbconvert_exporter": "python",
   "pygments_lexer": "ipython3",
   "version": "3.12.5"
  }
 },
 "nbformat": 4,
 "nbformat_minor": 5
}
