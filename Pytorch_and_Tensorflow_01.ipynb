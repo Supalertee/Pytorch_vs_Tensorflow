{
 "cells": [
  {
   "cell_type": "markdown",
   "id": "e565461d-2112-4d38-b98f-2231c2069f9d",
   "metadata": {},
   "source": [
    "# Pytorch and Tensorflow"
   ]
  },
  {
   "cell_type": "markdown",
   "id": "309d3f6d-e29a-48e6-a479-c6f3fb1a0395",
   "metadata": {},
   "source": [
    "<br> We first import Pytorch and TensorFlow.</br>\n",
    "In the case that there are no packages please visit\n",
    "<ul>\n",
    "    <li> For <b> TensorFlow </b>, visit   <a href = https://www.tensorflow.org/install/>tensorflow.org/install</a>    </li>\n",
    "    <li>  For <b> Pytorch </b>, visit   <a href =https://pytorch.org/get-started/locally/> pytorch.org/get-started/locally</a>    </li> </li>\n",
    "</ul>\n",
    "Make sure that <b>pip</b> is properly install in your environment\n"
   ]
  },
  {
   "cell_type": "code",
   "execution_count": 2,
   "id": "ff432bc4-706a-4144-b903-3ce26ed15574",
   "metadata": {},
   "outputs": [],
   "source": [
    "import torch \n",
    "import tensorflow as tf\n",
    "import numpy as np\n",
    "import matplotlib.pyplot as plt"
   ]
  },
  {
   "cell_type": "markdown",
   "id": "f535b5eb-d80a-4b85-90bc-b112e1d235ff",
   "metadata": {},
   "source": [
    "### Define Tensors or converting from numpy arrays\n",
    "In computational programing, tensor is nothing other multi-dimensional arrays. </br>\n",
    "Unlike in Physics, which we need to much more care about the transformation properties.</br>\n",
    "Both Pytorch and TensorFlow can change numpy type quantity to tensor quantity.\n"
   ]
  },
  {
   "cell_type": "code",
   "execution_count": 118,
   "id": "eb1462af-0550-4869-8687-34c3cac7f979",
   "metadata": {},
   "outputs": [
    {
     "name": "stdout",
     "output_type": "stream",
     "text": [
      "numpy array is given as follows \n",
      "[[0.23951971 0.46147239 0.78459481 0.57903601]\n",
      " [0.33148967 0.96051163 0.59041406 0.79837633]\n",
      " [0.96641596 0.4051617  0.46419597 0.90321574]\n",
      " [0.53491057 0.73742794 0.16439057 0.09105809]] <class 'numpy.ndarray'>\n",
      "\n",
      " We can convert into tensor rank-n in ternsorflow: \n",
      "tf.Tensor(\n",
      "[[0.23951971 0.46147239 0.78459481 0.57903601]\n",
      " [0.33148967 0.96051163 0.59041406 0.79837633]\n",
      " [0.96641596 0.4051617  0.46419597 0.90321574]\n",
      " [0.53491057 0.73742794 0.16439057 0.09105809]], shape=(4, 4), dtype=float64) <class 'tensorflow.python.framework.ops.EagerTensor'>\n",
      "\n",
      " We can convert into tensor rank-n in ternsorflow: \n",
      "tensor([[0.2395, 0.4615, 0.7846, 0.5790],\n",
      "        [0.3315, 0.9605, 0.5904, 0.7984],\n",
      "        [0.9664, 0.4052, 0.4642, 0.9032],\n",
      "        [0.5349, 0.7374, 0.1644, 0.0911]], dtype=torch.float64) <class 'torch.Tensor'>\n"
     ]
    }
   ],
   "source": [
    "X = np.random.rand(4,4)\n",
    "print(\"numpy array is given as follows \")\n",
    "print(X,type(X))\n",
    "X_tensorflow = tf.convert_to_tensor(X)\n",
    "print(\"\\n We can convert into tensor rank-n in ternsorflow: \")\n",
    "print(X_tensorflow,type(X_tensorflow))\n",
    "X_pytorch = torch.from_numpy(X)\n",
    "print(\"\\n We can convert into tensor rank-n in ternsorflow: \")\n",
    "\n",
    "print(X_pytorch,type(X_pytorch))\n",
    "\n"
   ]
  },
  {
   "cell_type": "markdown",
   "id": "b914bc75-16e6-4616-a11f-1d0487ccae5a",
   "metadata": {},
   "source": [
    "### Regression\n",
    "\n",
    "In this section, I will first manually construct the ML algorithm and then I will use built-in optimization later.\n",
    "\n",
    "1. Farward step is the generating of prediction by using a model.\n",
    "2. loss is defined loss-function appropriate to model. \n",
    "3. backward propagator is done by considering gredient to find the minimum of loss and update\n",
    "4. "
   ]
  },
  {
   "cell_type": "markdown",
   "id": "e44328db-695e-4cb8-9fe2-04db597ae122",
   "metadata": {},
   "source": [
    "#### Manual (Numpy_Based Regression)\n",
    "In ML model, we need roughly 3 steps: \n",
    "1) forward process, we consider y_pred = w*x \n",
    "2) loss calculation, we consider 1/N sum((y_pred_i-y_i)^2) which is usually stable under differential operators\n",
    "3) backward update, update w = w - a d(loss)/dw\n",
    "\n"
   ]
  },
  {
   "cell_type": "code",
   "execution_count": 314,
   "id": "ae384981-23a3-483c-a2e1-2842486e545b",
   "metadata": {
    "scrolled": true
   },
   "outputs": [
    {
     "data": {
      "text/plain": [
       "[<matplotlib.lines.Line2D at 0x305c57410>]"
      ]
     },
     "execution_count": 314,
     "metadata": {},
     "output_type": "execute_result"
    },
    {
     "data": {
      "image/png": "[encoded data removed]",
      "text/plain": [
       "<Figure size 640x480 with 1 Axes>"
      ]
     },
     "metadata": {},
     "output_type": "display_data"
    }
   ],
   "source": [
    "def foward_1D_regression(x):\n",
    "    return w*x\n",
    "def loss(y,y_predict):\n",
    "    return ((y_predict-y)**2).mean()\n",
    "def gredient(x,y,y_predict):\n",
    "    return np.dot(2*x,(y_predict-y)).mean()\n",
    "\n",
    "X= np.array([1,2,3,4],dtype = np.float32)\n",
    "Y = np.array([3,6,9,12],dtype = np.float32)\n",
    "X_test = np.array([5],dtype = np.float32)\n",
    "w = 1\n",
    "\n",
    "learning_rate =0.03\n",
    "n_iters = 20\n",
    "\n",
    "loss_plot = []\n",
    "w_plot = []\n",
    "for epoch in range(n_iters):\n",
    "    y_pred = forward_1D_regression(X)\n",
    "    \n",
    "    l = loss(Y,y_pred)\n",
    "    loss_plot.append(l)\n",
    "    dw = gredient(X,Y,y_pred)\n",
    "    \n",
    "    w -= learning_rate * dw\n",
    "    w_plot.append(w)\n",
    "#     if epoch % 1 == 0:\n",
    "#         print(f'epoch:{epoch+1}: w = {w.item():.3f}, loss = {l:.8f}')\n",
    "# print(f'predict before training: f(5) = {forward_1D_regression(X_test).item():.3f}')\n",
    "plt.plot(loss_plot)\n",
    "plt.plot(w_plot)"
   ]
  },
  {
   "cell_type": "markdown",
   "id": "a8857792-ae8e-40ac-96d1-2353485f31d0",
   "metadata": {},
   "source": [
    "### Pytorch Based Regression\n",
    "In Pytorch, there are super useful module for example, Regression, loss function, optimization, which might be well optimized\n",
    "\n",
    "Firstlym let consider Linear regression by using <b>torch.nn.Linear</b>, the forward is automatically called in the class"
   ]
  },
  {
   "cell_type": "code",
   "execution_count": 349,
   "id": "d65efe0d-71ba-4cda-a3e3-c1cb4894d56f",
   "metadata": {},
   "outputs": [],
   "source": [
    "import torch.nn as nn \n",
    "\n",
    "class Linear_Regression(nn.Module): \n",
    "    def __init__(self,input_dims,output_dims):\n",
    "        super(Linear_Regression, self).__init__()  \n",
    "        # remind that nn.Module has its __call__, so we include this line to access \"nn.Module\"'s attriute including __call__\n",
    "        self.lin = nn.Linear(input_dims,output_dims)\n",
    "        \n",
    "    def forward(self,x):\n",
    "        return self.lin(x)\n",
    "\n",
    "# we need 1 feature 4 samples , so that we need column vector input data 4x1, [1,2,3,4] -> (4,), reshape and convert to tensor are needed.\n",
    "def pytorch_columnize(z):\n",
    "    return torch.from_numpy(z.reshape(len(z),1))"
   ]
  },
  {
   "cell_type": "markdown",
   "id": "63aad50b-95db-4aab-af00-4e21c14022cf",
   "metadata": {},
   "source": [
    "#### Setting data and data structures"
   ]
  },
  {
   "cell_type": "code",
   "execution_count": 351,
   "id": "17f54baa-3725-4e4e-b1e6-457a4c6e9832",
   "metadata": {
    "scrolled": true
   },
   "outputs": [],
   "source": [
    "\n",
    "X = pytorch_columnize(np.array([1,2,3,4],dtype = np.float32))\n",
    "Y = pytorch_columnize(np.array([3,6,9,12],dtype = np.float32))\n",
    "# in the case that, we define torch.tensor with 4x1 pytorch_columnize is not needed.\n",
    "X_test = torch.tensor([[5],[6],[7],[8],[9],[10]],dtype = torch.float32)\n",
    "# inputs and outputs shape is consider as the second component of shape (1 in this case.)\n",
    "input_dims,output_dims = X_torch.shape[1], Y_torch.shape[1]\n"
   ]
  },
  {
   "cell_type": "code",
   "execution_count": null,
   "id": "e487bfc0-a7c6-4775-a692-ee41ec88ed10",
   "metadata": {},
   "outputs": [],
   "source": [
    "model = Linear_Regression(input_dims,output_dims)\n",
    "learning_rate = 0.03\n",
    "n_iters = 150\n",
    "loss = nn.MSELoss()\n",
    "optimizer = torch.optim.SGD(model.parameters(),lr = learning_rate)\n",
    "\n",
    "loss_plot = []\n",
    "w_plot = []\n",
    "for epoch in range(n_iters):\n",
    "    y_pred = model(X)\n",
    "    l = loss(Y,y_pred)\n",
    "    l.backward()\n",
    "    optimizer.step()\n",
    "    optimizer.zero_grad()\n",
    "    loss_plot.append(l.detach().numpy())\n",
    "    [w,b] = model.parameters()\n",
    "    w_plot.append(w[0][0].item())\n",
    "#     if epoch % 1 == 0:\n",
    "#         [w,b] = model.parameters()\n",
    "#         print(f'epoch:{epoch+1}: w = {w[0][0].item():.3f}, loss = {l:.8f}')\n",
    "# print(f'predict before training: f(5) = {model(X_test).item():.3f}')\n",
    "\n",
    "plt.plot(loss_plot)\n",
    "plt.plot(w_plot)\n",
    "plt.ylim([0,8])\n"
   ]
  },
  {
   "cell_type": "code",
   "execution_count": 345,
   "id": "d42b61d6-8cb0-4309-b5c3-e4bc5cd51e9f",
   "metadata": {},
   "outputs": [
    {
     "data": {
      "text/plain": [
       "tensor([14.7876], grad_fn=<ViewBackward0>)"
      ]
     },
     "execution_count": 345,
     "metadata": {},
     "output_type": "execute_result"
    }
   ],
   "source": [
    "model(X_test)"
   ]
  },
  {
   "cell_type": "code",
   "execution_count": 333,
   "id": "2a59def7-3ec4-4b52-8132-b02a5e92dc6c",
   "metadata": {},
   "outputs": [
    {
     "data": {
      "text/plain": [
       "Parameter containing:\n",
       "tensor([[1.1051]], requires_grad=True)"
      ]
     },
     "execution_count": 333,
     "metadata": {},
     "output_type": "execute_result"
    }
   ],
   "source": [
    "w"
   ]
  },
  {
   "cell_type": "code",
   "execution_count": 348,
   "id": "b7753b65-4509-4df5-a2d8-48eddb679563",
   "metadata": {
    "scrolled": true
   },
   "outputs": [
    {
     "name": "stdout",
     "output_type": "stream",
     "text": [
      "Epoch 1: weight = -0.043, bias = 0.322\n",
      "Epoch 2: weight = 0.385, bias = 0.577\n",
      "Epoch 3: weight = 0.725, bias = 0.777\n",
      "Epoch 4: weight = 0.996, bias = 0.935\n",
      "Epoch 5: weight = 1.213, bias = 1.060\n",
      "Epoch 6: weight = 1.386, bias = 1.157\n",
      "Epoch 7: weight = 1.524, bias = 1.233\n",
      "Epoch 8: weight = 1.634, bias = 1.292\n",
      "Epoch 9: weight = 1.723, bias = 1.337\n",
      "Epoch 10: weight = 1.794, bias = 1.372\n",
      "Epoch 11: weight = 1.851, bias = 1.398\n",
      "Epoch 12: weight = 1.898, bias = 1.418\n",
      "Epoch 13: weight = 1.936, bias = 1.432\n",
      "Epoch 14: weight = 1.966, bias = 1.442\n",
      "Epoch 15: weight = 1.992, bias = 1.448\n",
      "Epoch 16: weight = 2.013, bias = 1.452\n",
      "Epoch 17: weight = 2.030, bias = 1.454\n",
      "Epoch 18: weight = 2.045, bias = 1.454\n",
      "Epoch 19: weight = 2.057, bias = 1.453\n",
      "Epoch 20: weight = 2.068, bias = 1.450\n",
      "Epoch 21: weight = 2.077, bias = 1.447\n",
      "Epoch 22: weight = 2.085, bias = 1.443\n",
      "Epoch 23: weight = 2.093, bias = 1.439\n",
      "Epoch 24: weight = 2.099, bias = 1.434\n",
      "Epoch 25: weight = 2.105, bias = 1.429\n",
      "Epoch 26: weight = 2.111, bias = 1.424\n",
      "Epoch 27: weight = 2.116, bias = 1.419\n",
      "Epoch 28: weight = 2.121, bias = 1.413\n",
      "Epoch 29: weight = 2.126, bias = 1.408\n",
      "Epoch 30: weight = 2.130, bias = 1.402\n",
      "Epoch 31: weight = 2.134, bias = 1.396\n",
      "Epoch 32: weight = 2.139, bias = 1.390\n",
      "Epoch 33: weight = 2.143, bias = 1.384\n",
      "Epoch 34: weight = 2.147, bias = 1.378\n",
      "Epoch 35: weight = 2.151, bias = 1.372\n",
      "Epoch 36: weight = 2.155, bias = 1.367\n",
      "Epoch 37: weight = 2.158, bias = 1.361\n",
      "Epoch 38: weight = 2.162, bias = 1.355\n",
      "Epoch 39: weight = 2.166, bias = 1.349\n",
      "Epoch 40: weight = 2.170, bias = 1.343\n",
      "Epoch 41: weight = 2.173, bias = 1.337\n",
      "Epoch 42: weight = 2.177, bias = 1.331\n",
      "Epoch 43: weight = 2.181, bias = 1.326\n",
      "Epoch 44: weight = 2.184, bias = 1.320\n",
      "Epoch 45: weight = 2.188, bias = 1.314\n",
      "Epoch 46: weight = 2.191, bias = 1.308\n",
      "Epoch 47: weight = 2.195, bias = 1.303\n",
      "Epoch 48: weight = 2.198, bias = 1.297\n",
      "Epoch 49: weight = 2.202, bias = 1.291\n",
      "Epoch 50: weight = 2.205, bias = 1.286\n",
      "Epoch 51: weight = 2.209, bias = 1.280\n",
      "Epoch 52: weight = 2.212, bias = 1.274\n",
      "Epoch 53: weight = 2.216, bias = 1.269\n",
      "Epoch 54: weight = 2.219, bias = 1.263\n",
      "Epoch 55: weight = 2.223, bias = 1.258\n",
      "Epoch 56: weight = 2.226, bias = 1.252\n",
      "Epoch 57: weight = 2.230, bias = 1.247\n",
      "Epoch 58: weight = 2.233, bias = 1.241\n",
      "Epoch 59: weight = 2.236, bias = 1.236\n",
      "Epoch 60: weight = 2.240, bias = 1.230\n",
      "Epoch 61: weight = 2.243, bias = 1.225\n",
      "Epoch 62: weight = 2.246, bias = 1.220\n",
      "Epoch 63: weight = 2.250, bias = 1.214\n",
      "Epoch 64: weight = 2.253, bias = 1.209\n",
      "Epoch 65: weight = 2.256, bias = 1.204\n",
      "Epoch 66: weight = 2.259, bias = 1.198\n",
      "Epoch 67: weight = 2.263, bias = 1.193\n",
      "Epoch 68: weight = 2.266, bias = 1.188\n",
      "Epoch 69: weight = 2.269, bias = 1.183\n",
      "Epoch 70: weight = 2.272, bias = 1.178\n",
      "Epoch 71: weight = 2.275, bias = 1.172\n",
      "Epoch 72: weight = 2.279, bias = 1.167\n",
      "Epoch 73: weight = 2.282, bias = 1.162\n",
      "Epoch 74: weight = 2.285, bias = 1.157\n",
      "Epoch 75: weight = 2.288, bias = 1.152\n",
      "Epoch 76: weight = 2.291, bias = 1.147\n",
      "Epoch 77: weight = 2.294, bias = 1.142\n",
      "Epoch 78: weight = 2.297, bias = 1.137\n",
      "Epoch 79: weight = 2.300, bias = 1.132\n",
      "Epoch 80: weight = 2.303, bias = 1.127\n",
      "Epoch 81: weight = 2.307, bias = 1.122\n",
      "Epoch 82: weight = 2.310, bias = 1.117\n",
      "Epoch 83: weight = 2.313, bias = 1.112\n",
      "Epoch 84: weight = 2.316, bias = 1.107\n",
      "Epoch 85: weight = 2.319, bias = 1.103\n",
      "Epoch 86: weight = 2.322, bias = 1.098\n",
      "Epoch 87: weight = 2.325, bias = 1.093\n",
      "Epoch 88: weight = 2.327, bias = 1.088\n",
      "Epoch 89: weight = 2.330, bias = 1.083\n",
      "Epoch 90: weight = 2.333, bias = 1.079\n",
      "Epoch 91: weight = 2.336, bias = 1.074\n",
      "Epoch 92: weight = 2.339, bias = 1.069\n",
      "Epoch 93: weight = 2.342, bias = 1.065\n",
      "Epoch 94: weight = 2.345, bias = 1.060\n",
      "Epoch 95: weight = 2.348, bias = 1.055\n",
      "Epoch 96: weight = 2.351, bias = 1.051\n",
      "Epoch 97: weight = 2.354, bias = 1.046\n",
      "Epoch 98: weight = 2.356, bias = 1.041\n",
      "Epoch 99: weight = 2.359, bias = 1.037\n",
      "Epoch 100: weight = 2.362, bias = 1.032\n",
      "Epoch 101: weight = 2.365, bias = 1.028\n",
      "Epoch 102: weight = 2.368, bias = 1.023\n",
      "Epoch 103: weight = 2.370, bias = 1.019\n",
      "Epoch 104: weight = 2.373, bias = 1.014\n",
      "Epoch 105: weight = 2.376, bias = 1.010\n",
      "Epoch 106: weight = 2.379, bias = 1.006\n",
      "Epoch 107: weight = 2.381, bias = 1.001\n",
      "Epoch 108: weight = 2.384, bias = 0.997\n",
      "Epoch 109: weight = 2.387, bias = 0.992\n",
      "Epoch 110: weight = 2.389, bias = 0.988\n",
      "Epoch 111: weight = 2.392, bias = 0.984\n",
      "Epoch 112: weight = 2.395, bias = 0.979\n",
      "Epoch 113: weight = 2.397, bias = 0.975\n",
      "Epoch 114: weight = 2.400, bias = 0.971\n",
      "Epoch 115: weight = 2.403, bias = 0.967\n",
      "Epoch 116: weight = 2.405, bias = 0.962\n",
      "Epoch 117: weight = 2.408, bias = 0.958\n",
      "Epoch 118: weight = 2.410, bias = 0.954\n",
      "Epoch 119: weight = 2.413, bias = 0.950\n",
      "Epoch 120: weight = 2.416, bias = 0.946\n",
      "Epoch 121: weight = 2.418, bias = 0.942\n",
      "Epoch 122: weight = 2.421, bias = 0.937\n",
      "Epoch 123: weight = 2.423, bias = 0.933\n",
      "Epoch 124: weight = 2.426, bias = 0.929\n",
      "Epoch 125: weight = 2.428, bias = 0.925\n",
      "Epoch 126: weight = 2.431, bias = 0.921\n",
      "Epoch 127: weight = 2.433, bias = 0.917\n",
      "Epoch 128: weight = 2.436, bias = 0.913\n",
      "Epoch 129: weight = 2.438, bias = 0.909\n",
      "Epoch 130: weight = 2.441, bias = 0.905\n",
      "Epoch 131: weight = 2.443, bias = 0.901\n",
      "Epoch 132: weight = 2.446, bias = 0.897\n",
      "Epoch 133: weight = 2.448, bias = 0.893\n",
      "Epoch 134: weight = 2.450, bias = 0.889\n",
      "Epoch 135: weight = 2.453, bias = 0.885\n",
      "Epoch 136: weight = 2.455, bias = 0.882\n",
      "Epoch 137: weight = 2.458, bias = 0.878\n",
      "Epoch 138: weight = 2.460, bias = 0.874\n",
      "Epoch 139: weight = 2.462, bias = 0.870\n",
      "Epoch 140: weight = 2.465, bias = 0.866\n",
      "Epoch 141: weight = 2.467, bias = 0.862\n",
      "Epoch 142: weight = 2.469, bias = 0.859\n",
      "Epoch 143: weight = 2.472, bias = 0.855\n",
      "Epoch 144: weight = 2.474, bias = 0.851\n",
      "Epoch 145: weight = 2.476, bias = 0.847\n",
      "Epoch 146: weight = 2.479, bias = 0.844\n",
      "Epoch 147: weight = 2.481, bias = 0.840\n",
      "Epoch 148: weight = 2.483, bias = 0.836\n",
      "Epoch 149: weight = 2.485, bias = 0.833\n",
      "Epoch 150: weight = 2.488, bias = 0.829\n",
      "Epoch 151: weight = 2.490, bias = 0.825\n",
      "Epoch 152: weight = 2.492, bias = 0.822\n",
      "Epoch 153: weight = 2.494, bias = 0.818\n",
      "Epoch 154: weight = 2.497, bias = 0.815\n",
      "Epoch 155: weight = 2.499, bias = 0.811\n",
      "Epoch 156: weight = 2.501, bias = 0.808\n",
      "Epoch 157: weight = 2.503, bias = 0.804\n",
      "Epoch 158: weight = 2.505, bias = 0.800\n",
      "Epoch 159: weight = 2.507, bias = 0.797\n",
      "Epoch 160: weight = 2.510, bias = 0.793\n",
      "Epoch 161: weight = 2.512, bias = 0.790\n",
      "Epoch 162: weight = 2.514, bias = 0.787\n",
      "Epoch 163: weight = 2.516, bias = 0.783\n",
      "Epoch 164: weight = 2.518, bias = 0.780\n",
      "Epoch 165: weight = 2.520, bias = 0.776\n",
      "Epoch 166: weight = 2.522, bias = 0.773\n",
      "Epoch 167: weight = 2.524, bias = 0.769\n",
      "Epoch 168: weight = 2.527, bias = 0.766\n",
      "Epoch 169: weight = 2.529, bias = 0.763\n",
      "Epoch 170: weight = 2.531, bias = 0.759\n",
      "Epoch 171: weight = 2.533, bias = 0.756\n",
      "Epoch 172: weight = 2.535, bias = 0.753\n",
      "Epoch 173: weight = 2.537, bias = 0.749\n",
      "Epoch 174: weight = 2.539, bias = 0.746\n",
      "Epoch 175: weight = 2.541, bias = 0.743\n",
      "Epoch 176: weight = 2.543, bias = 0.740\n",
      "Epoch 177: weight = 2.545, bias = 0.736\n",
      "Epoch 178: weight = 2.547, bias = 0.733\n",
      "Epoch 179: weight = 2.549, bias = 0.730\n",
      "Epoch 180: weight = 2.551, bias = 0.727\n",
      "Epoch 181: weight = 2.553, bias = 0.724\n",
      "Epoch 182: weight = 2.555, bias = 0.720\n",
      "Epoch 183: weight = 2.557, bias = 0.717\n",
      "Epoch 184: weight = 2.559, bias = 0.714\n",
      "Epoch 185: weight = 2.561, bias = 0.711\n",
      "Epoch 186: weight = 2.562, bias = 0.708\n",
      "Epoch 187: weight = 2.564, bias = 0.705\n",
      "Epoch 188: weight = 2.566, bias = 0.702\n",
      "Epoch 189: weight = 2.568, bias = 0.699\n",
      "Epoch 190: weight = 2.570, bias = 0.696\n",
      "Epoch 191: weight = 2.572, bias = 0.693\n",
      "Epoch 192: weight = 2.574, bias = 0.690\n",
      "Epoch 193: weight = 2.576, bias = 0.687\n",
      "Epoch 194: weight = 2.578, bias = 0.684\n",
      "Epoch 195: weight = 2.579, bias = 0.681\n",
      "Epoch 196: weight = 2.581, bias = 0.678\n",
      "Epoch 197: weight = 2.583, bias = 0.675\n",
      "Epoch 198: weight = 2.585, bias = 0.672\n",
      "Epoch 199: weight = 2.587, bias = 0.669\n",
      "Epoch 200: weight = 2.589, bias = 0.666\n"
     ]
    },
    {
     "data": {
      "image/png": "[encoded data removed]",
      "text/plain": [
       "<Figure size 640x480 with 1 Axes>"
      ]
     },
     "metadata": {},
     "output_type": "display_data"
    }
   ],
   "source": [
    "import numpy as np\n",
    "import tensorflow as tf\n",
    "import matplotlib.pyplot as plt\n",
    "\n",
    "# Function to reshape and convert data to tensors\n",
    "def tf_tensor_columnize(z):\n",
    "    return tf.convert_to_tensor(z.reshape(len(z), 1))\n",
    "\n",
    "# Data\n",
    "X = tf_tensor_columnize(np.array([1, 2, 3, 4], dtype=np.float32))\n",
    "Y = tf_tensor_columnize(np.array([3, 6, 9, 12], dtype=np.float32))\n",
    "X_test = tf.constant([5.])\n",
    "\n",
    "# Define the model\n",
    "def model():\n",
    "    model = tf.keras.models.Sequential()\n",
    "    model.add(tf.keras.layers.Dense(units=1))\n",
    "    return model\n",
    "\n",
    "linear_model = model()\n",
    "\n",
    "linear_model.compile(\n",
    "    optimizer=tf.keras.optimizers.SGD(learning_rate=0.03),\n",
    "    loss='MeanSquaredError')\n",
    "\n",
    "# Custom callback to store weights and biases for plotting\n",
    "class WeightTracker(tf.keras.callbacks.Callback):\n",
    "    def __init__(self):\n",
    "        super(WeightTracker, self).__init__()\n",
    "        self.weights_history = []  # To store weights at each epoch\n",
    "        self.bias_history = []     # To store biases at each epoch\n",
    "\n",
    "    def on_epoch_end(self, epoch, logs=None):\n",
    "        # Get weights from the model (a list of arrays: [weights, bias])\n",
    "        weights = self.model.get_weights()\n",
    "        w, b = weights[0][0][0], weights[1][0]\n",
    "        # Append weights and biases to lists\n",
    "        self.weights_history.append(w)\n",
    "        self.bias_history.append(b)\n",
    "        print(f'Epoch {epoch + 1}: weight = {w:.3f}, bias = {b:.3f}')\n",
    "\n",
    "weight_tracker = WeightTracker()\n",
    "history = linear_model.fit(\n",
    "    X,\n",
    "    Y,\n",
    "    epochs=200,\n",
    "    verbose=0,\n",
    "    validation_split=0.3,\n",
    "    callbacks=[weight_tracker]  \n",
    ")\n",
    "\n",
    "# Plotting the weight evolution\n",
    "epochs = range(1, len(weight_tracker.weights_history) + 1)\n",
    "plt.plot(epochs, weight_tracker.weights_history, label='Weight')\n",
    "plt.plot(epochs, weight_tracker.bias_history, label='Bias')\n",
    "plt.plot(history.history['loss'], label='loss')\n",
    "plt.xlabel('Epochs')\n",
    "plt.ylabel('Value')\n",
    "plt.title('Weight and Bias Evolution over Epochs')\n",
    "plt.legend()\n",
    "plt.show()\n"
   ]
  },
  {
   "cell_type": "code",
   "execution_count": 342,
   "id": "6eb32fa0-2753-4373-8add-1a734a3f9c38",
   "metadata": {},
   "outputs": [
    {
     "name": "stdout",
     "output_type": "stream",
     "text": [
      "\u001b[1m1/1\u001b[0m \u001b[32m━━━━━━━━━━━━━━━━━━━━\u001b[0m\u001b[37m\u001b[0m \u001b[1m0s\u001b[0m 16ms/step\n"
     ]
    },
    {
     "data": {
      "text/plain": [
       "array([[13.557581]], dtype=float32)"
      ]
     },
     "execution_count": 342,
     "metadata": {},
     "output_type": "execute_result"
    }
   ],
   "source": [
    "linear_model.predict(X_test)"
   ]
  },
  {
   "cell_type": "code",
   "execution_count": null,
   "id": "5cf200b2-cfe8-4ce6-b378-543a46bc11db",
   "metadata": {},
   "outputs": [],
   "source": []
  }
 ],
 "metadata": {
  "kernelspec": {
   "display_name": "LLM",
   "language": "python",
   "name": "llm"
  },
  "language_info": {
   "codemirror_mode": {
    "name": "ipython",
    "version": 3
   },
   "file_extension": ".py",
   "mimetype": "text/x-python",
   "name": "python",
   "nbconvert_exporter": "python",
   "pygments_lexer": "ipython3",
   "version": "3.12.5"
  }
 },
 "nbformat": 4,
 "nbformat_minor": 5
}
