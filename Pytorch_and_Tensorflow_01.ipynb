{
 "cells": [
  {
   "cell_type": "markdown",
   "id": "e565461d-2112-4d38-b98f-2231c2069f9d",
   "metadata": {},
   "source": [
    "# Pytorch and Tensorflow 101 Linear Regression"
   ]
  },
  {
   "cell_type": "markdown",
   "id": "309d3f6d-e29a-48e6-a479-c6f3fb1a0395",
   "metadata": {},
   "source": [
    "<br> We first import Pytorch and TensorFlow.</br>\n",
    "In the case that there are no packages please visit\n",
    "<ul>\n",
    "    <li> For <b> TensorFlow </b>, visit   <a href = https://www.tensorflow.org/install/>tensorflow.org/install</a>    </li>\n",
    "    <li>  For <b> Pytorch </b>, visit   <a href =https://pytorch.org/get-started/locally/> pytorch.org/get-started/locally</a>    </li> </li>\n",
    "</ul>\n",
    "Make sure that <b>pip</b> is properly install in your environment\n"
   ]
  },
  {
   "cell_type": "code",
   "execution_count": 1,
   "id": "ff432bc4-706a-4144-b903-3ce26ed15574",
   "metadata": {},
   "outputs": [],
   "source": [
    "import torch  \n",
    "import tensorflow as tf\n",
    "import numpy as np\n",
    "import matplotlib.pyplot as plt"
   ]
  },
  {
   "cell_type": "markdown",
   "id": "f535b5eb-d80a-4b85-90bc-b112e1d235ff",
   "metadata": {},
   "source": [
    "### Define Tensors or converting from numpy arrays\n",
    "In computational programing, tensor is nothing other multi-dimensional arrays. </br>\n",
    "Unlike in Physics, which we need to much more care about the transformation properties.</br>\n",
    "Both Pytorch and TensorFlow can change numpy type quantity to tensor quantity.\n"
   ]
  },
  {
   "cell_type": "code",
   "execution_count": 2,
   "id": "eb1462af-0550-4869-8687-34c3cac7f979",
   "metadata": {},
   "outputs": [
    {
     "name": "stdout",
     "output_type": "stream",
     "text": [
      "numpy array is given as follows \n",
      "[[0.76542737 0.72975791 0.42738925 0.12611034]\n",
      " [0.11962532 0.51454551 0.63262513 0.86282728]\n",
      " [0.57741181 0.52120434 0.41663939 0.77576948]\n",
      " [0.95437592 0.46247148 0.06696619 0.62783337]] <class 'numpy.ndarray'>\n",
      "\n",
      " We can convert into tensor rank-n in ternsorflow: \n",
      "tf.Tensor(\n",
      "[[0.76542737 0.72975791 0.42738925 0.12611034]\n",
      " [0.11962532 0.51454551 0.63262513 0.86282728]\n",
      " [0.57741181 0.52120434 0.41663939 0.77576948]\n",
      " [0.95437592 0.46247148 0.06696619 0.62783337]], shape=(4, 4), dtype=float64) <class 'tensorflow.python.framework.ops.EagerTensor'>\n",
      "\n",
      " We can convert into tensor rank-n in ternsorflow: \n",
      "tensor([[0.7654, 0.7298, 0.4274, 0.1261],\n",
      "        [0.1196, 0.5145, 0.6326, 0.8628],\n",
      "        [0.5774, 0.5212, 0.4166, 0.7758],\n",
      "        [0.9544, 0.4625, 0.0670, 0.6278]], dtype=torch.float64) <class 'torch.Tensor'>\n"
     ]
    }
   ],
   "source": [
    "X = np.random.rand(4,4)\n",
    "print(\"numpy array is given as follows \")\n",
    "print(X,type(X))\n",
    "X_tensorflow = tf.convert_to_tensor(X)\n",
    "print(\"\\n We can convert into tensor rank-n in ternsorflow: \")\n",
    "print(X_tensorflow,type(X_tensorflow))\n",
    "X_pytorch = torch.from_numpy(X)\n",
    "print(\"\\n We can convert into tensor rank-n in ternsorflow: \")\n",
    "\n",
    "print(X_pytorch,type(X_pytorch))\n",
    "\n"
   ]
  },
  {
   "cell_type": "markdown",
   "id": "b914bc75-16e6-4616-a11f-1d0487ccae5a",
   "metadata": {},
   "source": [
    "### Regression\n",
    "\n",
    "In this section, I will first manually construct the ML algorithm and then I will use built-in optimization later.\n",
    "\n",
    "1. Farward step is the generating of prediction by using a model.\n",
    "2. loss is defined loss-function appropriate to model. \n",
    "3. backward propagator is done by considering gredient to find the minimum of loss and update\n",
    "4. "
   ]
  },
  {
   "cell_type": "markdown",
   "id": "e44328db-695e-4cb8-9fe2-04db597ae122",
   "metadata": {},
   "source": [
    "#### Manual (Numpy_Based Regression)\n",
    "In ML model, we need roughly 3 steps: \n",
    "1) forward process, we consider y_pred = w*x \n",
    "2) loss calculation, we consider 1/N sum((y_pred_i-y_i)^2) which is usually stable under differential operators\n",
    "3) backward update, update w = w - a d(loss)/dw\n",
    "\n"
   ]
  },
  {
   "cell_type": "code",
   "execution_count": 6,
   "id": "ae384981-23a3-483c-a2e1-2842486e545b",
   "metadata": {
    "scrolled": true
   },
   "outputs": [
    {
     "name": "stdout",
     "output_type": "stream",
     "text": [
      "epoch:1: w = 3.018, loss = 298.00000000\n",
      "epoch:3: w = 3.335, loss = 2.83997416\n",
      "epoch:5: w = 3.341, loss = 2.73292732\n",
      "epoch:7: w = 3.341, loss = 2.73288894\n",
      "epoch:9: w = 3.341, loss = 2.73288894\n",
      "epoch:11: w = 3.341, loss = 2.73288870\n",
      "epoch:13: w = 3.341, loss = 2.73288870\n",
      "epoch:15: w = 3.341, loss = 2.73288870\n",
      "epoch:17: w = 3.341, loss = 2.73288918\n",
      "epoch:19: w = 3.341, loss = 2.73288870\n",
      "epoch:21: w = 3.341, loss = 2.73288870\n",
      "epoch:23: w = 3.341, loss = 2.73288870\n",
      "epoch:25: w = 3.341, loss = 2.73288870\n",
      "epoch:27: w = 3.341, loss = 2.73288918\n",
      "epoch:29: w = 3.341, loss = 2.73288870\n",
      "epoch:31: w = 3.341, loss = 2.73288870\n",
      "epoch:33: w = 3.341, loss = 2.73288870\n",
      "epoch:35: w = 3.341, loss = 2.73288870\n",
      "epoch:37: w = 3.341, loss = 2.73288918\n",
      "epoch:39: w = 3.341, loss = 2.73288870\n",
      "epoch:41: w = 3.341, loss = 2.73288870\n",
      "epoch:43: w = 3.341, loss = 2.73288870\n",
      "epoch:45: w = 3.341, loss = 2.73288870\n",
      "epoch:47: w = 3.341, loss = 2.73288918\n",
      "epoch:49: w = 3.341, loss = 2.73288870\n",
      "epoch:51: w = 3.341, loss = 2.73288870\n",
      "epoch:53: w = 3.341, loss = 2.73288870\n",
      "epoch:55: w = 3.341, loss = 2.73288870\n",
      "epoch:57: w = 3.341, loss = 2.73288918\n",
      "epoch:59: w = 3.341, loss = 2.73288870\n",
      "epoch:61: w = 3.341, loss = 2.73288918\n",
      "epoch:63: w = 3.341, loss = 2.73288870\n",
      "epoch:65: w = 3.341, loss = 2.73288870\n",
      "epoch:67: w = 3.341, loss = 2.73288870\n",
      "epoch:69: w = 3.341, loss = 2.73288870\n",
      "epoch:71: w = 3.341, loss = 2.73288918\n",
      "epoch:73: w = 3.341, loss = 2.73288870\n",
      "epoch:75: w = 3.341, loss = 2.73288870\n",
      "epoch:77: w = 3.341, loss = 2.73288870\n",
      "epoch:79: w = 3.341, loss = 2.73288870\n",
      "epoch:81: w = 3.341, loss = 2.73288918\n",
      "epoch:83: w = 3.341, loss = 2.73288870\n",
      "epoch:85: w = 3.341, loss = 2.73288870\n",
      "epoch:87: w = 3.341, loss = 2.73288870\n",
      "epoch:89: w = 3.341, loss = 2.73288870\n",
      "epoch:91: w = 3.341, loss = 2.73288918\n",
      "epoch:93: w = 3.341, loss = 2.73288870\n",
      "epoch:95: w = 3.341, loss = 2.73288870\n",
      "epoch:97: w = 3.341, loss = 2.73288870\n",
      "epoch:99: w = 3.341, loss = 2.73288870\n",
      "epoch:101: w = 3.341, loss = 2.73288918\n",
      "epoch:103: w = 3.341, loss = 2.73288870\n",
      "epoch:105: w = 3.341, loss = 2.73288870\n",
      "epoch:107: w = 3.341, loss = 2.73288870\n",
      "epoch:109: w = 3.341, loss = 2.73288870\n",
      "epoch:111: w = 3.341, loss = 2.73288918\n",
      "epoch:113: w = 3.341, loss = 2.73288870\n",
      "epoch:115: w = 3.341, loss = 2.73288918\n",
      "epoch:117: w = 3.341, loss = 2.73288870\n",
      "epoch:119: w = 3.341, loss = 2.73288870\n",
      "epoch:121: w = 3.341, loss = 2.73288870\n",
      "epoch:123: w = 3.341, loss = 2.73288870\n",
      "epoch:125: w = 3.341, loss = 2.73288918\n",
      "epoch:127: w = 3.341, loss = 2.73288870\n",
      "epoch:129: w = 3.341, loss = 2.73288870\n",
      "epoch:131: w = 3.341, loss = 2.73288870\n",
      "epoch:133: w = 3.341, loss = 2.73288870\n",
      "epoch:135: w = 3.341, loss = 2.73288918\n",
      "epoch:137: w = 3.341, loss = 2.73288870\n",
      "epoch:139: w = 3.341, loss = 2.73288870\n",
      "epoch:141: w = 3.341, loss = 2.73288870\n",
      "epoch:143: w = 3.341, loss = 2.73288870\n",
      "epoch:145: w = 3.341, loss = 2.73288918\n",
      "epoch:147: w = 3.341, loss = 2.73288870\n",
      "epoch:149: w = 3.341, loss = 2.73288870\n",
      "epoch:151: w = 3.341, loss = 2.73288870\n",
      "epoch:153: w = 3.341, loss = 2.73288870\n",
      "epoch:155: w = 3.341, loss = 2.73288918\n",
      "epoch:157: w = 3.341, loss = 2.73288870\n",
      "epoch:159: w = 3.341, loss = 2.73288870\n",
      "epoch:161: w = 3.341, loss = 2.73288870\n",
      "epoch:163: w = 3.341, loss = 2.73288870\n",
      "epoch:165: w = 3.341, loss = 2.73288918\n",
      "epoch:167: w = 3.341, loss = 2.73288870\n",
      "epoch:169: w = 3.341, loss = 2.73288918\n",
      "epoch:171: w = 3.341, loss = 2.73288870\n",
      "epoch:173: w = 3.341, loss = 2.73288870\n",
      "epoch:175: w = 3.341, loss = 2.73288870\n",
      "epoch:177: w = 3.341, loss = 2.73288870\n",
      "epoch:179: w = 3.341, loss = 2.73288918\n",
      "epoch:181: w = 3.341, loss = 2.73288870\n",
      "epoch:183: w = 3.341, loss = 2.73288870\n",
      "epoch:185: w = 3.341, loss = 2.73288870\n",
      "epoch:187: w = 3.341, loss = 2.73288870\n",
      "epoch:189: w = 3.341, loss = 2.73288918\n",
      "epoch:191: w = 3.341, loss = 2.73288870\n",
      "epoch:193: w = 3.341, loss = 2.73288870\n",
      "epoch:195: w = 3.341, loss = 2.73288870\n",
      "epoch:197: w = 3.341, loss = 2.73288870\n",
      "epoch:199: w = 3.341, loss = 2.73288918\n",
      "predict before training: f(5) = 16.705\n"
     ]
    }
   ],
   "source": [
    "def forward_1D_regression(x):\n",
    "    return w*x\n",
    "def loss(y,y_predict):\n",
    "    return ((y_predict-y)**2).mean()\n",
    "def gredient(x,y,y_predict):\n",
    "    return np.dot(2*x,(y_predict-y)).mean()\n",
    "\n",
    "X= np.array([1,2,3,4,6,10,11,12],dtype = np.float32)\n",
    "Y = 3*X + 3\n",
    "X_test = np.array([5],dtype = np.float32)\n",
    "w = 1\n",
    "\n",
    "learning_rate =0.001\n",
    "n_iters = 200\n",
    "\n",
    "loss_custom = []\n",
    "w_custom = []\n",
    "for epoch in range(n_iters):\n",
    "    y_pred = forward_1D_regression(X)\n",
    "    \n",
    "    l = loss(Y,y_pred)\n",
    "    loss_custom.append(l)\n",
    "    dw = gredient(X,Y,y_pred)\n",
    "    \n",
    "    w -= learning_rate * dw\n",
    "    w_custom.append(w)\n",
    "    if epoch % 2 == 0:\n",
    "        print(f'epoch:{epoch+1}: w = {w.item():.3f}, loss = {l:.8f}')\n",
    "print(f'predict before training: f(5) = {forward_1D_regression(X_test).item():.3f}')"
   ]
  },
  {
   "cell_type": "markdown",
   "id": "a8857792-ae8e-40ac-96d1-2353485f31d0",
   "metadata": {},
   "source": [
    "### Pytorch Based Regression\n",
    "In Pytorch, there are super useful module for example, Regression, loss function, optimization, which might be well optimized\n",
    "\n",
    "Firstlym let consider Linear regression by using <b>torch.nn.Linear</b>, the forward is automatically called in the class"
   ]
  },
  {
   "cell_type": "code",
   "execution_count": 15,
   "id": "d65efe0d-71ba-4cda-a3e3-c1cb4894d56f",
   "metadata": {},
   "outputs": [],
   "source": [
    "import torch.nn as nn \n",
    "\n",
    "class Linear_Regression(nn.Module): \n",
    "    def __init__(self,input_dims,output_dims):\n",
    "        super(Linear_Regression, self).__init__()  \n",
    "        # remind that nn.Module has its __call__, so we include this line to access \"nn.Module\"'s attriute including __call__\n",
    "        self.lin = nn.Linear(input_dims,output_dims)\n",
    "        \n",
    "    def forward(self,x):\n",
    "        return self.lin(x)\n",
    "\n",
    "# we need 1 feature 4 samples , so that we need column vector input data 4x1, [1,2,3,4] -> (4,), reshape and convert to tensor are needed.\n",
    "def pytorch_columnize(z):\n",
    "    return torch.from_numpy(z.reshape(len(z),1))"
   ]
  },
  {
   "cell_type": "markdown",
   "id": "63aad50b-95db-4aab-af00-4e21c14022cf",
   "metadata": {},
   "source": [
    "#### Setting data and data structures"
   ]
  },
  {
   "cell_type": "code",
   "execution_count": 18,
   "id": "17f54baa-3725-4e4e-b1e6-457a4c6e9832",
   "metadata": {
    "scrolled": true
   },
   "outputs": [],
   "source": [
    "\n",
    "X = pytorch_columnize(np.array([1,2,3,4,6,10,11,12],dtype = np.float32))\n",
    "Y = pytorch_columnize(np.array(3*X + 3, dtype = np.float32))\n",
    "# in the case that, we define torch.tensor with 4x1 pytorch_columnize is not needed.\n",
    "X_test = torch.tensor([[5],[6],[7],[8],[9],[10]],dtype = torch.float32)\n",
    "# inputs and outputs shape is consider as the second component of shape (1 in this case.)\n",
    "input_dims,output_dims = X.shape[1], Y.shape[1]\n"
   ]
  },
  {
   "cell_type": "code",
   "execution_count": 19,
   "id": "7832764e-fbb9-451c-bb75-d33eb5998986",
   "metadata": {},
   "outputs": [
    {
     "data": {
      "text/plain": [
       "tensor([[ 6.],\n",
       "        [ 9.],\n",
       "        [12.],\n",
       "        [15.],\n",
       "        [21.],\n",
       "        [33.],\n",
       "        [36.],\n",
       "        [39.]])"
      ]
     },
     "execution_count": 19,
     "metadata": {},
     "output_type": "execute_result"
    }
   ],
   "source": [
    "Y"
   ]
  },
  {
   "cell_type": "markdown",
   "id": "e2cf583c-39e8-43a4-87ce-4d54ae86505d",
   "metadata": {},
   "source": [
    "#### Model Construction and Optimization"
   ]
  },
  {
   "cell_type": "code",
   "execution_count": 34,
   "id": "e487bfc0-a7c6-4775-a692-ee41ec88ed10",
   "metadata": {},
   "outputs": [
    {
     "name": "stdout",
     "output_type": "stream",
     "text": [
      "epoch:1: w = 3.759,b = -0.275, loss = 953.77856445\n",
      "epoch:11: w = 3.357,b = -0.124, loss = 3.00001669\n",
      "epoch:21: w = 3.336,b = 0.058, loss = 2.66007376\n",
      "epoch:31: w = 3.317,b = 0.230, loss = 2.35865045\n",
      "epoch:41: w = 3.298,b = 0.391, loss = 2.09138489\n",
      "epoch:51: w = 3.281,b = 0.544, loss = 1.85440171\n",
      "epoch:61: w = 3.264,b = 0.687, loss = 1.64427185\n",
      "epoch:71: w = 3.249,b = 0.822, loss = 1.45795310\n",
      "epoch:81: w = 3.234,b = 0.949, loss = 1.29274666\n",
      "epoch:91: w = 3.221,b = 1.069, loss = 1.14626050\n",
      "epoch:101: w = 3.208,b = 1.182, loss = 1.01637352\n",
      "epoch:111: w = 3.196,b = 1.288, loss = 0.90120429\n",
      "epoch:121: w = 3.184,b = 1.388, loss = 0.79908550\n",
      "epoch:131: w = 3.174,b = 1.482, loss = 0.70853841\n",
      "epoch:141: w = 3.163,b = 1.570, loss = 0.62825096\n",
      "epoch:151: w = 3.154,b = 1.654, loss = 0.55706167\n",
      "epoch:161: w = 3.145,b = 1.732, loss = 0.49393809\n",
      "epoch:171: w = 3.136,b = 1.806, loss = 0.43796819\n",
      "epoch:181: w = 3.129,b = 1.876, loss = 0.38834077\n",
      "epoch:191: w = 3.121,b = 1.942, loss = 0.34433591\n",
      "epoch:201: w = 3.114,b = 2.003, loss = 0.30531850\n",
      "epoch:211: w = 3.107,b = 2.061, loss = 0.27072182\n",
      "epoch:221: w = 3.101,b = 2.116, loss = 0.24004528\n",
      "epoch:231: w = 3.095,b = 2.168, loss = 0.21284495\n",
      "epoch:241: w = 3.090,b = 2.216, loss = 0.18872654\n",
      "epoch:251: w = 3.084,b = 2.262, loss = 0.16734104\n",
      "epoch:261: w = 3.079,b = 2.305, loss = 0.14837913\n",
      "epoch:271: w = 3.075,b = 2.346, loss = 0.13156576\n",
      "epoch:281: w = 3.070,b = 2.384, loss = 0.11665714\n",
      "epoch:291: w = 3.066,b = 2.420, loss = 0.10343853\n",
      "epoch:301: w = 3.062,b = 2.454, loss = 0.09171708\n",
      "epoch:311: w = 3.059,b = 2.486, loss = 0.08132449\n",
      "epoch:321: w = 3.055,b = 2.516, loss = 0.07210931\n",
      "epoch:331: w = 3.052,b = 2.544, loss = 0.06393822\n",
      "epoch:341: w = 3.049,b = 2.571, loss = 0.05669337\n",
      "epoch:351: w = 3.046,b = 2.596, loss = 0.05026918\n",
      "epoch:361: w = 3.044,b = 2.619, loss = 0.04457284\n",
      "epoch:371: w = 3.041,b = 2.641, loss = 0.03952248\n",
      "epoch:381: w = 3.039,b = 2.662, loss = 0.03504396\n",
      "epoch:391: w = 3.036,b = 2.682, loss = 0.03107305\n",
      "epoch:401: w = 3.034,b = 2.701, loss = 0.02755184\n",
      "epoch:411: w = 3.032,b = 2.718, loss = 0.02442998\n",
      "epoch:421: w = 3.030,b = 2.735, loss = 0.02166171\n",
      "epoch:431: w = 3.029,b = 2.750, loss = 0.01920711\n",
      "epoch:441: w = 3.027,b = 2.765, loss = 0.01703060\n",
      "epoch:451: w = 3.025,b = 2.778, loss = 0.01510084\n",
      "epoch:461: w = 3.024,b = 2.791, loss = 0.01338977\n",
      "epoch:471: w = 3.022,b = 2.803, loss = 0.01187248\n",
      "epoch:481: w = 3.021,b = 2.815, loss = 0.01052711\n",
      "epoch:491: w = 3.020,b = 2.826, loss = 0.00933430\n",
      "epoch:501: w = 3.019,b = 2.836, loss = 0.00827661\n",
      "epoch:511: w = 3.018,b = 2.845, loss = 0.00733873\n",
      "epoch:521: w = 3.017,b = 2.854, loss = 0.00650723\n",
      "epoch:531: w = 3.016,b = 2.863, loss = 0.00576985\n",
      "epoch:541: w = 3.015,b = 2.871, loss = 0.00511607\n",
      "epoch:551: w = 3.014,b = 2.879, loss = 0.00453633\n",
      "epoch:561: w = 3.013,b = 2.886, loss = 0.00402235\n",
      "epoch:571: w = 3.012,b = 2.892, loss = 0.00356658\n",
      "epoch:581: w = 3.012,b = 2.899, loss = 0.00316243\n",
      "epoch:591: w = 3.011,b = 2.904, loss = 0.00280410\n",
      "epoch:601: w = 3.010,b = 2.910, loss = 0.00248635\n",
      "epoch:611: w = 3.010,b = 2.915, loss = 0.00220458\n",
      "epoch:621: w = 3.009,b = 2.920, loss = 0.00195477\n",
      "epoch:631: w = 3.009,b = 2.925, loss = 0.00173329\n",
      "epoch:641: w = 3.008,b = 2.929, loss = 0.00153691\n",
      "epoch:651: w = 3.008,b = 2.933, loss = 0.00136273\n",
      "epoch:661: w = 3.007,b = 2.937, loss = 0.00120836\n",
      "epoch:671: w = 3.007,b = 2.941, loss = 0.00107140\n",
      "epoch:681: w = 3.006,b = 2.944, loss = 0.00094999\n",
      "epoch:691: w = 3.006,b = 2.948, loss = 0.00084236\n",
      "epoch:701: w = 3.006,b = 2.951, loss = 0.00074690\n",
      "epoch:711: w = 3.005,b = 2.954, loss = 0.00066227\n",
      "epoch:721: w = 3.005,b = 2.956, loss = 0.00058723\n",
      "epoch:731: w = 3.005,b = 2.959, loss = 0.00052070\n",
      "epoch:741: w = 3.004,b = 2.961, loss = 0.00046170\n",
      "epoch:751: w = 3.004,b = 2.964, loss = 0.00040938\n",
      "epoch:761: w = 3.004,b = 2.966, loss = 0.00036299\n",
      "epoch:771: w = 3.004,b = 2.968, loss = 0.00032186\n",
      "epoch:781: w = 3.003,b = 2.970, loss = 0.00028537\n",
      "epoch:791: w = 3.003,b = 2.971, loss = 0.00025303\n",
      "epoch:801: w = 3.003,b = 2.973, loss = 0.00022438\n",
      "epoch:811: w = 3.003,b = 2.975, loss = 0.00019895\n",
      "epoch:821: w = 3.003,b = 2.976, loss = 0.00017640\n",
      "epoch:831: w = 3.003,b = 2.977, loss = 0.00015642\n",
      "epoch:841: w = 3.002,b = 2.979, loss = 0.00013870\n",
      "epoch:851: w = 3.002,b = 2.980, loss = 0.00012298\n",
      "epoch:861: w = 3.002,b = 2.981, loss = 0.00010905\n",
      "epoch:871: w = 3.002,b = 2.982, loss = 0.00009668\n",
      "epoch:881: w = 3.002,b = 2.983, loss = 0.00008572\n",
      "epoch:891: w = 3.002,b = 2.984, loss = 0.00007601\n",
      "epoch:901: w = 3.002,b = 2.985, loss = 0.00006741\n",
      "epoch:911: w = 3.002,b = 2.986, loss = 0.00005976\n",
      "epoch:921: w = 3.002,b = 2.987, loss = 0.00005299\n",
      "epoch:931: w = 3.001,b = 2.988, loss = 0.00004699\n",
      "epoch:941: w = 3.001,b = 2.988, loss = 0.00004167\n",
      "epoch:951: w = 3.001,b = 2.989, loss = 0.00003694\n",
      "epoch:961: w = 3.001,b = 2.990, loss = 0.00003276\n",
      "epoch:971: w = 3.001,b = 2.990, loss = 0.00002905\n",
      "epoch:981: w = 3.001,b = 2.991, loss = 0.00002576\n",
      "epoch:991: w = 3.001,b = 2.991, loss = 0.00002284\n",
      "predict before training: f(5) = tensor([[17.9965],\n",
      "        [20.9974],\n",
      "        [23.9984],\n",
      "        [26.9993],\n",
      "        [30.0002],\n",
      "        [33.0012]])\n"
     ]
    }
   ],
   "source": [
    "model = Linear_Regression(input_dims,output_dims)\n",
    "learning_rate = 0.01\n",
    "n_iters = 1000\n",
    "loss = nn.MSELoss()\n",
    "optimizer = torch.optim.SGD(model.parameters(),lr = learning_rate)\n",
    "\n",
    "loss_pytorch = []\n",
    "w_pytorch = []\n",
    "for epoch in range(n_iters):\n",
    "    y_pred = model(X)\n",
    "    l = loss(Y,y_pred)\n",
    "    l.backward()\n",
    "    optimizer.step()\n",
    "    optimizer.zero_grad()\n",
    "    loss_pytorch.append(l.detach().numpy())\n",
    "    [w,b] = model.parameters()\n",
    "    w_pytorch.append(w[0][0].item())\n",
    "    if epoch % 10 == 0:\n",
    "        [w,b] = model.parameters()\n",
    "        print(f'epoch:{epoch+1}: w = {w[0][0].item():.3f},b = {b[0].item():.3f}, loss = {l:.8f}')\n",
    "print(f'predict before training: f(5) = {model(X_test).detach()}')\n",
    "\n",
    "\n"
   ]
  },
  {
   "cell_type": "markdown",
   "id": "c68692a0-6bf7-4fc5-a992-408cc1d1afb9",
   "metadata": {},
   "source": [
    "### <b>Tensorflow</b> Based Regression \n",
    "\n",
    "As similar as Pytorch, the data feeding into layer need to by tensor of tensorflow.\n",
    "\n",
    "#### Setting data and data structures"
   ]
  },
  {
   "cell_type": "code",
   "execution_count": 11,
   "id": "cd7cc631-5ba1-461c-92c4-2b6b7048d464",
   "metadata": {},
   "outputs": [],
   "source": [
    "import numpy as np\n",
    "import tensorflow as tf\n",
    "\n",
    "# Function to reshape and convert data to tensors\n",
    "def tf_tensor_columnize(z):\n",
    "    return tf.convert_to_tensor(z.reshape(len(z), 1))\n",
    "\n",
    "# Data\n",
    "X = tf_tensor_columnize(np.array([1, 2, 3, 4], dtype=np.float32))\n",
    "Y = tf_tensor_columnize(np.array([3, 6, 9, 12], dtype=np.float32))\n",
    "X_test = tf.constant([[5],[6],[7],[8],[9],[10]],dtype = tf.float32)\n"
   ]
  },
  {
   "cell_type": "markdown",
   "id": "863b1f10-e1c6-4be1-8f85-30a0cb12daca",
   "metadata": {},
   "source": [
    "#### Model Construction and Optimization"
   ]
  },
  {
   "cell_type": "code",
   "execution_count": 12,
   "id": "b7753b65-4509-4df5-a2d8-48eddb679563",
   "metadata": {
    "scrolled": true
   },
   "outputs": [
    {
     "name": "stdout",
     "output_type": "stream",
     "text": [
      "Epoch 1: weight = 1.510, bias = 0.406\n",
      "Epoch 11: weight = 2.745, bias = 0.747\n",
      "Epoch 21: weight = 2.768, bias = 0.683\n",
      "Epoch 31: weight = 2.788, bias = 0.624\n",
      "Epoch 41: weight = 2.806, bias = 0.570\n",
      "Epoch 51: weight = 2.823, bias = 0.521\n",
      "Epoch 61: weight = 2.838, bias = 0.476\n",
      "Epoch 71: weight = 2.852, bias = 0.435\n",
      "Epoch 81: weight = 2.865, bias = 0.398\n",
      "Epoch 91: weight = 2.876, bias = 0.363\n",
      "Epoch 101: weight = 2.887, bias = 0.332\n",
      "Epoch 111: weight = 2.897, bias = 0.303\n",
      "Epoch 121: weight = 2.906, bias = 0.277\n",
      "Epoch 131: weight = 2.914, bias = 0.253\n",
      "Epoch 141: weight = 2.921, bias = 0.231\n",
      "Epoch 151: weight = 2.928, bias = 0.211\n",
      "Epoch 161: weight = 2.934, bias = 0.193\n",
      "Epoch 171: weight = 2.940, bias = 0.177\n",
      "Epoch 181: weight = 2.945, bias = 0.161\n",
      "Epoch 191: weight = 2.950, bias = 0.147\n"
     ]
    }
   ],
   "source": [
    "# Define the model\n",
    "def model():\n",
    "    model = tf.keras.models.Sequential()\n",
    "    model.add(tf.keras.layers.Dense(units=1))\n",
    "    return model\n",
    "\n",
    "linear_model = model()\n",
    "\n",
    "linear_model.compile(\n",
    "    optimizer=tf.keras.optimizers.SGD(learning_rate=0.03),\n",
    "    loss='MeanSquaredError')\n",
    "\n",
    "# Custom callback to store weights and biases for plotting\n",
    "class WeightTracker(tf.keras.callbacks.Callback):\n",
    "    def __init__(self):\n",
    "        super(WeightTracker, self).__init__()\n",
    "        self.weights_history = []  # To store weights at each epoch\n",
    "        self.bias_history = []     # To store biases at each epoch\n",
    "\n",
    "    def on_epoch_end(self, epoch, logs=None):\n",
    "        # Get weights from the model (a list of arrays: [weights, bias])\n",
    "        weights = self.model.get_weights()\n",
    "        w, b = weights[0][0][0], weights[1][0]\n",
    "        # Append weights and biases to lists\n",
    "        self.weights_history.append(w)\n",
    "        self.bias_history.append(b)\n",
    "        if epoch % 10 == 0:\n",
    "            print(f'Epoch {epoch + 1}: weight = {w:.3f}, bias = {b:.3f}')\n",
    "\n",
    "weight_tracker = WeightTracker()\n",
    "history = linear_model.fit(\n",
    "    X,\n",
    "    Y,\n",
    "    epochs=200,\n",
    "    verbose=0,\n",
    "    validation_split=0,\n",
    "    callbacks=[weight_tracker]  \n",
    ")\n",
    "\n",
    "w_tf = weight_tracker.weights_history\n",
    "bias_tf = weight_tracker.bias_history\n",
    "loss_tf = history.history['loss']\n",
    "# Plotting the weight evolution\n",
    "# epochs = range(1, len(weight_tracker.weights_history) + 1)\n",
    "# plt.plot(epochs, weight_tracker.weights_history, label='Weight')\n",
    "# plt.plot(epochs, weight_tracker.bias_history, label='Bias')\n",
    "# plt.plot(history.history['loss'], label='loss')\n",
    "# plt.xlabel('Epochs')\n",
    "# plt.ylabel('Value')\n",
    "# plt.title('Weight and Bias Evolution over Epochs')\n",
    "# plt.legend()\n",
    "# plt.show()\n"
   ]
  },
  {
   "cell_type": "markdown",
   "id": "ee646603-f686-49e1-93d4-d64c333c3cc4",
   "metadata": {},
   "source": [
    "# Loss function and Weight visualization"
   ]
  },
  {
   "cell_type": "code",
   "execution_count": 419,
   "id": "883f3018-3a56-4e06-8011-0ec272ba0f60",
   "metadata": {},
   "outputs": [
    {
     "data": {
      "text/plain": [
       "[45.31484603881836,\n",
       " 28.726890563964844,\n",
       " 18.258167266845703,\n",
       " 11.650898933410645,\n",
       " 7.480355262756348,\n",
       " 4.847475528717041,\n",
       " 3.1849277019500732,\n",
       " 2.1347012519836426,\n",
       " 1.4708812236785889,\n",
       " 1.0509063005447388,\n",
       " 0.7848148941993713,\n",
       " 0.6158393621444702,\n",
       " 0.508156955242157,\n",
       " 0.43916136026382446,\n",
       " 0.3945881128311157]"
      ]
     },
     "execution_count": 419,
     "metadata": {},
     "output_type": "execute_result"
    }
   ],
   "source": [
    "loss_custom \n",
    "w_custom \n",
    "loss_pytorch\n",
    "w_pytorch\n",
    "w_tf\n",
    "loss_tf"
   ]
  },
  {
   "cell_type": "code",
   "execution_count": 13,
   "id": "2a277a99-98ce-4a09-a325-9a5a9eef1ab9",
   "metadata": {},
   "outputs": [
    {
     "data": {
      "text/plain": [
       "Text(0.5, 1.0, 'Loss Function Evolution over Epochs')"
      ]
     },
     "execution_count": 13,
     "metadata": {},
     "output_type": "execute_result"
    },
    {
     "data": {
      "image/png": "[encoded data removed]",
      "text/plain": [
       "<Figure size 640x480 with 1 Axes>"
      ]
     },
     "metadata": {},
     "output_type": "display_data"
    }
   ],
   "source": [
    "plt.plot(loss_custom, label='loss_numpy')\n",
    "plt.plot(loss_pytorch, label='loss_pytorch')\n",
    "plt.plot(loss_tf, label='loss_tensorflow')\n",
    "plt.xlabel('Epochs')\n",
    "plt.ylim([-0.1,1])\n",
    "plt.legend()\n",
    "plt.title('Loss Function Evolution over Epochs')\n"
   ]
  },
  {
   "cell_type": "code",
   "execution_count": 14,
   "id": "8f91d194-5ebf-4410-b1cd-db1a4bc074cd",
   "metadata": {},
   "outputs": [
    {
     "data": {
      "text/plain": [
       "<matplotlib.legend.Legend at 0x30dc41730>"
      ]
     },
     "execution_count": 14,
     "metadata": {},
     "output_type": "execute_result"
    },
    {
     "data": {
      "image/png": "[encoded data removed]",
      "text/plain": [
       "<Figure size 640x480 with 1 Axes>"
      ]
     },
     "metadata": {},
     "output_type": "display_data"
    }
   ],
   "source": [
    "plt.plot(w_custom, label='loss_numpy')\n",
    "plt.plot(w_pytorch, label='loss_pytorch')\n",
    "plt.plot(w_tf, label='loss_tensorflow')\n",
    "plt.xlabel('Epochs')\n",
    "plt.ylim([2,4])\n",
    "plt.title('Weight Evolution over Epochs')\n",
    "plt.legend()"
   ]
  }
 ],
 "metadata": {
  "kernelspec": {
   "display_name": "LLM",
   "language": "python",
   "name": "llm"
  },
  "language_info": {
   "codemirror_mode": {
    "name": "ipython",
    "version": 3
   },
   "file_extension": ".py",
   "mimetype": "text/x-python",
   "name": "python",
   "nbconvert_exporter": "python",
   "pygments_lexer": "ipython3",
   "version": "3.12.5"
  }
 },
 "nbformat": 4,
 "nbformat_minor": 5
}
